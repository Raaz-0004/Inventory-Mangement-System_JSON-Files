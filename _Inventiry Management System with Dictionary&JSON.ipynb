{
 "cells": [
  {
   "cell_type": "code",
   "execution_count": 1,
   "id": "e3d0ebd9-6a81-4b12-8972-321402923af0",
   "metadata": {},
   "outputs": [],
   "source": [
    "record = {1001 : \"5 Star\", 1002 : \"Bar-One\", 1003 : \"Chocolate-Cake\", 1004 : \"Blackberry-Cake\"}"
   ]
  },
  {
   "cell_type": "code",
   "execution_count": 2,
   "id": "b243cef0-fe9a-4c83-a2ab-0778abc14068",
   "metadata": {},
   "outputs": [
    {
     "data": {
      "text/plain": [
       "{1001: '5 Star',\n",
       " 1002: 'Bar-One',\n",
       " 1003: 'Chocolate-Cake',\n",
       " 1004: 'Blackberry-Cake'}"
      ]
     },
     "execution_count": 2,
     "metadata": {},
     "output_type": "execute_result"
    }
   ],
   "source": [
    "record"
   ]
  },
  {
   "cell_type": "markdown",
   "id": "6f6fbd64-1018-4d60-a03a-084ef864cd67",
   "metadata": {},
   "source": [
    "#All database above is in form of the key-value pairs. Left-Key-Product id & Right-Value-Product name"
   ]
  },
  {
   "cell_type": "code",
   "execution_count": 4,
   "id": "75d615a5-72fb-4bc4-90b9-38f9d7b337c2",
   "metadata": {},
   "outputs": [
    {
     "data": {
      "text/plain": [
       "'5 Star'"
      ]
     },
     "execution_count": 4,
     "metadata": {},
     "output_type": "execute_result"
    }
   ],
   "source": [
    "record[1001]"
   ]
  },
  {
   "cell_type": "markdown",
   "id": "03e01de9-db83-452a-8a82-4fe90dd899a8",
   "metadata": {},
   "source": [
    "We can only pass the key present in the database\n"
   ]
  },
  {
   "cell_type": "code",
   "execution_count": 6,
   "id": "40c70935-490d-4868-bd34-9ffbe026c643",
   "metadata": {},
   "outputs": [],
   "source": [
    "record = {1001 : {'Name': \"5 Star\"}, \n",
    "          1002 : \"Bar-One\", \n",
    "          1003 : \"Chocolate-Cake\",\n",
    "          1004 : \"Blackberry-Cake\"}"
   ]
  },
  {
   "cell_type": "markdown",
   "id": "99a981a1-8eca-4d24-a24b-04aba2f78db5",
   "metadata": {},
   "source": [
    "We can pass a whole dictionary inside a key of a dictionary\n"
   ]
  },
  {
   "cell_type": "code",
   "execution_count": 8,
   "id": "275ae97d-a457-4ccf-ab9d-6b31895d9b46",
   "metadata": {},
   "outputs": [
    {
     "data": {
      "text/plain": [
       "{'Name': '5 Star'}"
      ]
     },
     "execution_count": 8,
     "metadata": {},
     "output_type": "execute_result"
    }
   ],
   "source": [
    "record[1001]"
   ]
  },
  {
   "cell_type": "code",
   "execution_count": 9,
   "id": "407bbfbb-3292-45fb-8898-9b6c6065de41",
   "metadata": {},
   "outputs": [
    {
     "data": {
      "text/plain": [
       "'5 Star'"
      ]
     },
     "execution_count": 9,
     "metadata": {},
     "output_type": "execute_result"
    }
   ],
   "source": [
    "record[1001][\"Name\"]"
   ]
  },
  {
   "cell_type": "code",
   "execution_count": 24,
   "id": "7bd3eef9-60d6-40fb-acd1-e4d965eb1e06",
   "metadata": {},
   "outputs": [],
   "source": [
    "import json\n",
    "record = {1001 : {\"Name\": \"5 Star\",         \"price\":10,  \"Qn\":200}, \n",
    "          1002 : {\"Name\": \"Bar-One\",        \"price\":10,  \"Qn\":100},\n",
    "          1003 : {\"Name\": \"Candy\",          \"price\":2,   \"Qn\": 1000},\n",
    "          1004 : {\"Name\": \"Chocolate-Cake\", \"price\":550, \"Qn\":8},\n",
    "          1005 : {\"Name\": \"Blackberry-Cake\",\"price\": 650,\"Qn\":5}}"
   ]
  },
  {
   "cell_type": "code",
   "execution_count": 11,
   "id": "b1eb6a21-df48-4d2e-a6c6-234aa9a85b65",
   "metadata": {},
   "outputs": [
    {
     "data": {
      "text/plain": [
       "{1001: {'Name': '5 Star', 'price': 10, 'Qn': 200},\n",
       " 1002: {'Name': 'Bar-One', 'price': 10, 'Qn': 100},\n",
       " 1003: {'Name': 'Candy', 'price': 2, 'Qn': 1000},\n",
       " 1004: {'Name': 'Chocolate-Cake', 'price': 550, 'Qn': 8},\n",
       " 1005: {'Name': 'Blackberry-Cake', 'price': 650, 'Qn': 5}}"
      ]
     },
     "execution_count": 11,
     "metadata": {},
     "output_type": "execute_result"
    }
   ],
   "source": [
    "record"
   ]
  },
  {
   "cell_type": "code",
   "execution_count": 12,
   "id": "f7d7eb3e-a148-43c6-85f2-d9c65eae3d83",
   "metadata": {},
   "outputs": [
    {
     "data": {
      "text/plain": [
       "{'Name': 'Blackberry-Cake', 'price': 650, 'Qn': 5}"
      ]
     },
     "execution_count": 12,
     "metadata": {},
     "output_type": "execute_result"
    }
   ],
   "source": [
    "record[1005]"
   ]
  },
  {
   "cell_type": "code",
   "execution_count": 13,
   "id": "5911dbf6-bb61-4394-8989-a96a53f0703c",
   "metadata": {},
   "outputs": [
    {
     "name": "stdout",
     "output_type": "stream",
     "text": [
      "Candy\n",
      "10\n",
      "8\n"
     ]
    }
   ],
   "source": [
    "print(record[1003][\"Name\"])\n",
    "print(record[1002][\"price\"])\n",
    "print(record[1004][\"Qn\"])"
   ]
  },
  {
   "cell_type": "markdown",
   "id": "10f3446a-6eaf-426b-80c0-4cbeecd3b8d1",
   "metadata": {},
   "source": [
    "#Generating Bills"
   ]
  },
  {
   "cell_type": "code",
   "execution_count": 15,
   "id": "08d9bc71-6f0b-40c0-86a2-b3b187f196c9",
   "metadata": {},
   "outputs": [
    {
     "name": "stdout",
     "output_type": "stream",
     "text": [
      "----------------------MENU-------------------------\n",
      "1001 : 5 Star | 10 | 200\n",
      "1002 : Bar-One | 10 | 100\n",
      "1003 : Candy | 2 | 1000\n",
      "1004 : Chocolate-Cake | 550 | 8\n",
      "1005 : Blackberry-Cake | 650 | 5\n",
      "---------------------------------------------------\n"
     ]
    }
   ],
   "source": [
    "print(\"----------------------MENU-------------------------\")\n",
    "for key in record.keys():\n",
    "    print(key,\":\", record[key][\"Name\"],\"|\",record[key][\"price\"],\"|\",record[key][\"Qn\"])\n",
    "print(\"---------------------------------------------------\")\n",
    "\n",
    "\n",
    "\n",
    "\n",
    "    "
   ]
  },
  {
   "cell_type": "code",
   "execution_count": 16,
   "id": "6cd2faa6-6a69-4d51-8f12-b201e15050f4",
   "metadata": {},
   "outputs": [
    {
     "name": "stdout",
     "output_type": "stream",
     "text": [
      "----------------------MENU-------------------------\n",
      "1001 : 5 Star | 10 | 200\n",
      "1002 : Bar-One | 10 | 100\n",
      "1003 : Candy | 2 | 1000\n",
      "1004 : Chocolate-Cake | 550 | 8\n",
      "1005 : Blackberry-Cake | 650 | 5\n",
      "---------------------------------------------------\n"
     ]
    },
    {
     "name": "stdin",
     "output_type": "stream",
     "text": [
      "Enetr product id:  1001\n",
      "Enter quantity  :  13\n"
     ]
    },
    {
     "name": "stdout",
     "output_type": "stream",
     "text": [
      "----------------------------------------\n",
      "                  Bill                   \n",
      "\n",
      "Name        : 5 Star\n",
      "Price(Rs)   : 10\n",
      "Quantity    : 13\n",
      "---------------------------------------------------\n",
      "Billing Amount:  130 Rs\n",
      "---------------------------------------------------\n"
     ]
    }
   ],
   "source": [
    "print(\"----------------------MENU-------------------------\")\n",
    "for key in record.keys():\n",
    "    print(key,\":\", record[key][\"Name\"],\"|\",record[key][\"price\"],\"|\",record[key][\"Qn\"])\n",
    "print(\"---------------------------------------------------\")\n",
    "\n",
    "ui_pr = int(input(\"Enetr product id: \"))\n",
    "ui_qn = int(input(\"Enter quantity  : \"))\n",
    "\n",
    "print(\"----------------------------------------\")\n",
    "print(\"                  Bill                   \\n\")\n",
    "\n",
    "print(\"Name        :\", record[ui_pr][\"Name\"])\n",
    "print(\"Price(Rs)   :\", record[ui_pr][\"price\"])\n",
    "print(\"Quantity    :\", ui_qn)\n",
    "\n",
    "print(\"---------------------------------------------------\")\n",
    "print(\"Billing Amount: \", record[ui_pr][\"price\"]*ui_qn,\"Rs\")\n",
    "print(\"---------------------------------------------------\")\n",
    "\n",
    "\n",
    "\n",
    "\n",
    "    "
   ]
  },
  {
   "cell_type": "markdown",
   "id": "44092f65-6c33-4519-b9d2-fba03f84ee7d",
   "metadata": {},
   "source": [
    "#Updating records\n"
   ]
  },
  {
   "cell_type": "code",
   "execution_count": 18,
   "id": "1cad6992-a88d-4e91-b3fe-63e334c54819",
   "metadata": {},
   "outputs": [
    {
     "data": {
      "text/plain": [
       "{1001: {'Name': '5 Star', 'price': 10, 'Qn': 200},\n",
       " 1002: {'Name': 'Bar-One', 'price': 10, 'Qn': 100},\n",
       " 1003: {'Name': 'Candy', 'price': 2, 'Qn': 1000},\n",
       " 1004: {'Name': 'Chocolate-Cake', 'price': 550, 'Qn': 8},\n",
       " 1005: {'Name': 'Blackberry-Cake', 'price': 650, 'Qn': 5}}"
      ]
     },
     "execution_count": 18,
     "metadata": {},
     "output_type": "execute_result"
    }
   ],
   "source": [
    "record"
   ]
  },
  {
   "cell_type": "code",
   "execution_count": 19,
   "id": "ca293e73-9cf5-4202-b060-6088f9e6057e",
   "metadata": {},
   "outputs": [
    {
     "name": "stdout",
     "output_type": "stream",
     "text": [
      "----------------------MENU-------------------------\n",
      "1001 : 5 Star \t| 10 \t| 200\n",
      "1002 : Bar-One \t| 10 \t| 100\n",
      "1003 : Candy \t| 2 \t| 1000\n",
      "1004 : Chocolate-Cake \t| 550 \t| 8\n",
      "1005 : Blackberry-Cake \t| 650 \t| 5\n",
      "---------------------------------------------------\n"
     ]
    },
    {
     "name": "stdin",
     "output_type": "stream",
     "text": [
      "Enetr product id:  13\n",
      "Enter quantity  :  12\n"
     ]
    },
    {
     "ename": "KeyError",
     "evalue": "13",
     "output_type": "error",
     "traceback": [
      "\u001b[1;31m---------------------------------------------------------------------------\u001b[0m",
      "\u001b[1;31mKeyError\u001b[0m                                  Traceback (most recent call last)",
      "Cell \u001b[1;32mIn[19], line 17\u001b[0m\n\u001b[0;32m     14\u001b[0m ui_pr \u001b[38;5;241m=\u001b[39m \u001b[38;5;28mint\u001b[39m(\u001b[38;5;28minput\u001b[39m(\u001b[38;5;124m\"\u001b[39m\u001b[38;5;124mEnetr product id: \u001b[39m\u001b[38;5;124m\"\u001b[39m))\n\u001b[0;32m     15\u001b[0m ui_qn \u001b[38;5;241m=\u001b[39m \u001b[38;5;28mint\u001b[39m(\u001b[38;5;28minput\u001b[39m(\u001b[38;5;124m\"\u001b[39m\u001b[38;5;124mEnter quantity  : \u001b[39m\u001b[38;5;124m\"\u001b[39m))\n\u001b[1;32m---> 17\u001b[0m record[ui_pr][\u001b[38;5;124m\"\u001b[39m\u001b[38;5;124mQn\u001b[39m\u001b[38;5;124m\"\u001b[39m] \u001b[38;5;241m=\u001b[39m record[ui_pr][\u001b[38;5;124m\"\u001b[39m\u001b[38;5;124mQn\u001b[39m\u001b[38;5;124m\"\u001b[39m] \u001b[38;5;241m-\u001b[39m ui_qn\n\u001b[0;32m     19\u001b[0m \u001b[38;5;28mprint\u001b[39m(\u001b[38;5;124m\"\u001b[39m\u001b[38;5;124m----------------------------------------\u001b[39m\u001b[38;5;124m\"\u001b[39m)\n\u001b[0;32m     20\u001b[0m \u001b[38;5;28mprint\u001b[39m(\u001b[38;5;124m\"\u001b[39m\u001b[38;5;124m                  Bill                   \u001b[39m\u001b[38;5;130;01m\\n\u001b[39;00m\u001b[38;5;124m\"\u001b[39m)\n",
      "\u001b[1;31mKeyError\u001b[0m: 13"
     ]
    }
   ],
   "source": [
    "import json\n",
    "\n",
    "record = {1001 : {\"Name\": \"5 Star\",         \"price\":10,  \"Qn\":200}, \n",
    "          1002 : {\"Name\": \"Bar-One\",        \"price\":10,  \"Qn\":100},\n",
    "          1003 : {\"Name\": \"Candy\",          \"price\":2,   \"Qn\": 1000},\n",
    "          1004 : {\"Name\": \"Chocolate-Cake\", \"price\":550, \"Qn\":8},\n",
    "          1005 : {\"Name\": \"Blackberry-Cake\",\"price\": 650,\"Qn\":5}}\n",
    "\n",
    "print(\"----------------------MENU-------------------------\")\n",
    "for key in record.keys():\n",
    "    print(key,\":\", record[key][\"Name\"],\"\\t|\",record[key][\"price\"],\"\\t|\",record[key][\"Qn\"])\n",
    "print(\"---------------------------------------------------\")\n",
    "\n",
    "ui_pr = int(input(\"Enetr product id: \"))\n",
    "ui_qn = int(input(\"Enter quantity  : \"))\n",
    "\n",
    "record[ui_pr][\"Qn\"] = record[ui_pr][\"Qn\"] - ui_qn\n",
    "\n",
    "print(\"----------------------------------------\")\n",
    "print(\"                  Bill                   \\n\")\n",
    "\n",
    "print(\"Name          :\", record[ui_pr][\"Name\"])\n",
    "print(\"Price(Rs)     :\", record[ui_pr][\"price\"])\n",
    "print(\"Quantity      :\", ui_qn)\n",
    "\n",
    "print(\"---------------------------------------------------\")\n",
    "print(\"Billing Amount: \", record[ui_pr][\"price\"]*ui_qn,\"Rs\")\n",
    "print(\"---------------------------------------------------\")\n",
    "\n",
    "\n",
    "\n",
    "\n",
    "\n",
    "    "
   ]
  },
  {
   "cell_type": "code",
   "execution_count": null,
   "id": "c58520d6-dbfb-45ed-b799-41de387814d5",
   "metadata": {},
   "outputs": [],
   "source": [
    "record"
   ]
  },
  {
   "cell_type": "code",
   "execution_count": null,
   "id": "76d733c6-89f9-4f00-9291-d3bb54df5b1c",
   "metadata": {},
   "outputs": [],
   "source": [
    "json.dumps(record)"
   ]
  },
  {
   "cell_type": "code",
   "execution_count": null,
   "id": "a47af5d0-c7e4-4eb4-b9ee-b0901528622a",
   "metadata": {},
   "outputs": [],
   "source": [
    "type(json.dumps(record))"
   ]
  },
  {
   "cell_type": "code",
   "execution_count": null,
   "id": "cf00b39b-2f3d-48ec-99ce-e75d35797099",
   "metadata": {},
   "outputs": [],
   "source": [
    "js = json.dumps(record)"
   ]
  },
  {
   "cell_type": "code",
   "execution_count": null,
   "id": "6b779fc9-e530-44b1-a6bc-317055e248a8",
   "metadata": {},
   "outputs": [],
   "source": [
    "fd = open(\"Records.json\", \"w\")\n",
    "fd.write(js)\n",
    "fd.close()"
   ]
  },
  {
   "cell_type": "code",
   "execution_count": null,
   "id": "cb0832fc-b512-4f47-b935-85da43f27b9e",
   "metadata": {},
   "outputs": [],
   "source": [
    "js"
   ]
  },
  {
   "cell_type": "code",
   "execution_count": null,
   "id": "7f0eab14-4ea7-4a66-9000-2bff1e961b9d",
   "metadata": {},
   "outputs": [],
   "source": [
    "import json\n",
    "\n",
    "record = {1001 : {\"Name\": \"5 Star\",         \"price\":10,  \"Qn\":200}, \n",
    "          1002 : {\"Name\": \"Bar-One\",        \"price\":10,  \"Qn\":100},\n",
    "          1003 : {\"Name\": \"Candy\",          \"price\":2,   \"Qn\": 1000},\n",
    "          1004 : {\"Name\": \"Chocolate-Cake\", \"price\":550, \"Qn\":8},\n",
    "          1005 : {\"Name\": \"Blackberry-Cake\",\"price\": 650,\"Qn\":5}}\n",
    "\n",
    "print(\"----------------------MENU-------------------------\")\n",
    "for key in record.keys():\n",
    "    print(key,\":\", record[key][\"Name\"],\"\\t|\",record[key][\"price\"],\"\\t|\",record[key][\"Qn\"])\n",
    "print(\"---------------------------------------------------\")\n",
    "\n",
    "ui_pr = int(input(\"Enetr product id: \"))\n",
    "ui_qn = int(input(\"Enter quantity  : \"))\n",
    "\n",
    "record[ui_pr][\"Qn\"] = record[ui_pr][\"Qn\"] - ui_qn\n",
    "\n",
    "print(\"----------------------------------------\")\n",
    "print(\"                  Bill                   \\n\")\n",
    "\n",
    "print(\"Name          :\", record[ui_pr][\"Name\"])\n",
    "print(\"Price(Rs)     :\", record[ui_pr][\"price\"])\n",
    "print(\"Quantity      :\", ui_qn)\n",
    "\n",
    "print(\"---------------------------------------------------\")\n",
    "print(\"Billing Amount: \", record[ui_pr][\"price\"]*ui_qn,\"Rs\")\n",
    "print(\"---------------------------------------------------\")\n",
    "\n",
    "js = json.dumps(record)\n",
    "\n",
    "fd = open(\"Records.json\", \"w\")\n",
    "fd.write(js)\n",
    "fd.close()\n",
    "\n",
    "\n",
    "\n",
    "    "
   ]
  },
  {
   "cell_type": "code",
   "execution_count": null,
   "id": "d034cc5a-e5a5-4f5d-95be-4846062fbb8b",
   "metadata": {},
   "outputs": [],
   "source": [
    "record"
   ]
  },
  {
   "cell_type": "markdown",
   "id": "a9958d6c-3e97-432b-b017-28089ddf296a",
   "metadata": {},
   "source": [
    "Saving record on json"
   ]
  },
  {
   "cell_type": "code",
   "execution_count": null,
   "id": "2d3e05d8-3b78-480c-b663-659414f4b1e2",
   "metadata": {},
   "outputs": [],
   "source": [
    "js"
   ]
  },
  {
   "cell_type": "code",
   "execution_count": null,
   "id": "715e6a6b-241a-42ec-83d5-1a5c2fd81ad4",
   "metadata": {},
   "outputs": [],
   "source": [
    "json.loads(js)"
   ]
  },
  {
   "cell_type": "code",
   "execution_count": null,
   "id": "7b84a7cf-a5b2-4a4e-b482-ac7f27f0926e",
   "metadata": {},
   "outputs": [],
   "source": [
    "fd = open(\"Records.json\",\"r\")\n",
    "js = fd.read()\n",
    "fd.close()"
   ]
  },
  {
   "cell_type": "code",
   "execution_count": null,
   "id": "a4013378-4705-4343-b891-9fbbc84fe31b",
   "metadata": {},
   "outputs": [],
   "source": [
    "record"
   ]
  },
  {
   "cell_type": "code",
   "execution_count": null,
   "id": "6014dce2-fe61-487c-bcb1-c09b5364995a",
   "metadata": {},
   "outputs": [],
   "source": [
    "json.loads(js)"
   ]
  },
  {
   "cell_type": "code",
   "execution_count": null,
   "id": "9b5a37f1-773b-442a-9852-a2f98ee78efb",
   "metadata": {},
   "outputs": [],
   "source": [
    "import json\n",
    "\n",
    "fd = open(\"Records.json\",\"r\")\n",
    "js = fd.read()\n",
    "fd.close()\n",
    "\n",
    "record = json.loads(js)\n",
    "\n",
    "print(\"----------------------MENU-------------------------\")\n",
    "for key in record.keys():\n",
    "    print(key,\":\", record[key][\"Name\"],\"\\t|\",record[key][\"price\"],\"\\t|\",record[key][\"Qn\"])\n",
    "print(\"---------------------------------------------------\")\n",
    "\n",
    "ui_pr = str(input(\"Enetr product id: \"))\n",
    "ui_qn = int(input(\"Enter quantity  : \"))\n",
    "\n",
    "record[ui_pr][\"Qn\"] = record[ui_pr][\"Qn\"] - ui_qn\n",
    "\n",
    "print(\"----------------------------------------\")\n",
    "print(\"                  Bill                   \\n\")\n",
    "\n",
    "print(\"Name          :\", record[ui_pr][\"Name\"])\n",
    "print(\"Price(Rs)     :\", record[ui_pr][\"price\"])\n",
    "print(\"Quantity      :\", ui_qn)\n",
    "\n",
    "print(\"---------------------------------------------------\")\n",
    "print(\"Billing Amount: \", record[ui_pr][\"price\"]*ui_qn,\"Rs\")\n",
    "print(\"---------------------------------------------------\")\n",
    "\n",
    "js = json.dumps(record)\n",
    "\n",
    "fd = open(\"Records.json\", \"w\")\n",
    "fd.write(js)\n",
    "fd.close()\n",
    "\n",
    "print(\" \")\n",
    "print(\"-------------------------------------\")\n",
    "print(\"Thank you for purchansing, Inventory Updates\")\n",
    "print(\"-------------------------------------\")\n",
    "\n",
    "\n",
    "\n",
    "    "
   ]
  },
  {
   "cell_type": "code",
   "execution_count": null,
   "id": "e87a22c0-2714-4fe3-97e7-a49681fa0c9f",
   "metadata": {},
   "outputs": [],
   "source": [
    "record"
   ]
  },
  {
   "cell_type": "code",
   "execution_count": null,
   "id": "766758ed-89fe-4284-ac3d-a2f71fbf2d38",
   "metadata": {},
   "outputs": [],
   "source": [
    "js"
   ]
  },
  {
   "cell_type": "code",
   "execution_count": null,
   "id": "c546c99a-14d1-426e-a5e0-9fe6127a7007",
   "metadata": {},
   "outputs": [],
   "source": [
    "json.loads(js)"
   ]
  },
  {
   "cell_type": "markdown",
   "id": "6680fd4d-0d67-471f-8027-1862df084e66",
   "metadata": {},
   "source": [
    "Adding Functionalities"
   ]
  },
  {
   "cell_type": "code",
   "execution_count": null,
   "id": "ad6d1b22-3de6-4de5-b1ae-2af6a69fa6ae",
   "metadata": {},
   "outputs": [],
   "source": [
    "record"
   ]
  },
  {
   "cell_type": "code",
   "execution_count": null,
   "id": "314e93ef-e546-40ea-a71b-8a9e6f835fb4",
   "metadata": {},
   "outputs": [],
   "source": [
    "record[\"1003\"]"
   ]
  },
  {
   "cell_type": "code",
   "execution_count": null,
   "id": "a77e8883-0996-45b1-a3ab-35753d27a754",
   "metadata": {},
   "outputs": [],
   "source": [
    "if record[\"1005\"][\"Qn\"]>=(ui_qn):\n",
    "    print(\"We are having Enough\")\n",
    "else:\n",
    "    print(\"Sorry\")"
   ]
  },
  {
   "cell_type": "code",
   "execution_count": null,
   "id": "2476d696-e14c-44ad-bc6c-36d512c816ed",
   "metadata": {},
   "outputs": [],
   "source": [
    "import json\n",
    "\n",
    "fd = open(\"Records.json\",\"r\")\n",
    "js = fd.read()\n",
    "fd.close()\n",
    "\n",
    "record = json.loads(js)\n",
    "\n",
    "print(\"----------------------MENU-------------------------\")\n",
    "for key in record.keys():\n",
    "    print(key,\":\", record[key][\"Name\"],\"\\t|\",record[key][\"price\"],\"\\t|\",record[key][\"Qn\"])\n",
    "print(\"---------------------------------------------------\")\n",
    "\n",
    "ui_pr = str(input(\"Enetr product id: \"))\n",
    "ui_qn = int(input(\"Enter quantity  : \"))\n",
    "\n",
    "if record[ui_pr][\"Qn\"]>=(ui_qn):\n",
    "    record[ui_pr][\"Qn\"] = record[ui_pr][\"Qn\"] - ui_qn\n",
    "\n",
    "    print(\"----------------------------------------\")\n",
    "    print(\"                  Bill                   \\n\")\n",
    "\n",
    "    print(\"Name          :\", record[ui_pr][\"Name\"])\n",
    "    print(\"Price(Rs)     :\", record[ui_pr][\"price\"])\n",
    "    print(\"Quantity      :\", ui_qn)\n",
    "\n",
    "    print(\"---------------------------------------------------\")\n",
    "    print(\"Billing Amount: \", record[ui_pr][\"price\"]*ui_qn,\"Rs\")\n",
    "    print(\"---------------------------------------------------\")\n",
    "  \n",
    "\n",
    "\n",
    "else:\n",
    "    print(\"Sorry , We are not having enough quantity\")\n",
    "    print(\"We have only\", record[ui_pr][\"Qn\"],\"Quantity\")\n",
    "    print(\"--------------------------------------------\")\n",
    "\n",
    "    ch = str(input(\"press Y/y to purchase: \"))\n",
    "\n",
    "    if (ch==\"Y\" or ch==\"y\"):\n",
    "        print(\"----------------------------------------\")\n",
    "        print(\"                  Bill                   \\n\")\n",
    " \n",
    "        print(\"Name          :\", record[ui_pr][\"Name\"])\n",
    "        print(\"Price(Rs)     :\", record[ui_pr][\"price\"])\n",
    "        print(\"Quantity      :\", record[ui_pr][\"Qn\"])\n",
    "\n",
    "        print(\"---------------------------------------------------\")\n",
    "        print(\"Billing Amount: \", record[ui_pr][\"price\"]*record[ui_pr][\"Qn\"],\"Rs\")\n",
    "        print(\"---------------------------------------------------\")\n",
    "        \n",
    "        record[ui_pr][\"Qn\"] = 0\n",
    "    else:\n",
    "        print(\"Thanks\")\n",
    "\n",
    "js = json.dumps(record)\n",
    "\n",
    "fd = open(\"Records.json\", \"w\")\n",
    "fd.write(js)\n",
    "fd.close()\n",
    "\n",
    "print(\" \")\n",
    "print(\"-------------------------------------\")\n",
    "print(\"Thank you for Visiting, Inventory Updates\")\n",
    "print(\"-------------------------------------\")\n",
    "\n",
    "\n",
    "\n",
    "    "
   ]
  },
  {
   "cell_type": "markdown",
   "id": "074da1fa-0f06-4ba6-9d01-263bfba9b172",
   "metadata": {},
   "source": [
    "Generating Sales Structure"
   ]
  },
  {
   "cell_type": "code",
   "execution_count": null,
   "id": "423af6bb-d580-451c-b2c2-52bac3d6072e",
   "metadata": {},
   "outputs": [],
   "source": [
    "import json\n",
    "\n",
    "fd = open(\"Records.json\",\"r\")\n",
    "js = fd.read()\n",
    "fd.close()\n",
    "\n",
    "record = json.loads(js)\n",
    "\n",
    "print(\"----------------------MENU-------------------------\")\n",
    "for key in record.keys():\n",
    "    print(key,\":\", record[key][\"Name\"],\"\\t|\",record[key][\"price\"],\"\\t|\",record[key][\"Qn\"])\n",
    "print(\"---------------------------------------------------\")\n",
    "\n",
    "ui_name = str(input(\"Enter your name  : \"))\n",
    "ui_mail = str(input(\"Enter mail id    : \"))\n",
    "ui_ph   = str(input(\"Enter phonr no   : \"))\n",
    "ui_pr   = str(input(\"Enetr product id  : \"))\n",
    "ui_qn   = int(input(\"Enter quantity    : \"))\n",
    "\n",
    "\n",
    "\n",
    "if record[ui_pr][\"Qn\"]>=(ui_qn):\n",
    "    record[ui_pr][\"Qn\"] = record[ui_pr][\"Qn\"] - ui_qn\n",
    "\n",
    "    print(\"----------------------------------------\")\n",
    "    print(\"                  Bill                   \\n\")\n",
    "\n",
    "    print(\"Name          :\", record[ui_pr][\"Name\"])\n",
    "    print(\"Price(Rs)     :\", record[ui_pr][\"price\"])\n",
    "    print(\"Quantity      :\", ui_qn)\n",
    "\n",
    "    print(\"---------------------------------------------------\")\n",
    "    print(\"Billing Amount: \", record[ui_pr][\"price\"]*ui_qn,\"Rs\")\n",
    "    print(\"---------------------------------------------------\")\n",
    "  \n",
    "\n",
    "\n",
    "else:\n",
    "    print(\"Sorry , We are not having enough quantity\")\n",
    "    print(\"We have only\", record[ui_pr][\"Qn\"],\"Quantity\")\n",
    "    print(\"--------------------------------------------\")\n",
    "\n",
    "    ch = str(input(\"press Y/y to purchase: \"))\n",
    "\n",
    "    if (ch==\"Y\" or ch==\"y\"):\n",
    "        print(\"----------------------------------------\")\n",
    "        print(\"                  Bill                   \\n\")\n",
    " \n",
    "        print(\"Name          :\", record[ui_pr][\"Name\"])\n",
    "        print(\"Price(Rs)     :\", record[ui_pr][\"price\"])\n",
    "        print(\"Quantity      :\", record[ui_pr][\"Qn\"])\n",
    "\n",
    "        print(\"---------------------------------------------------\")\n",
    "        print(\"Billing Amount: \", record[ui_pr][\"price\"]*record[ui_pr][\"Qn\"],\"Rs\")\n",
    "        print(\"---------------------------------------------------\")\n",
    "        \n",
    "        record[ui_pr][\"Qn\"] = 0\n",
    "    else:\n",
    "        print(\"Thanks\")\n",
    "\n",
    "js = json.dumps(record)\n",
    "\n",
    "fd = open(\"Records.json\", \"w\")\n",
    "fd.write(js)\n",
    "fd.close()\n",
    "\n",
    "print(\" \")\n",
    "print(\"-------------------------------------\")\n",
    "print(\"Thank you for Visiting, Inventory Updated\")\n",
    "print(\"-------------------------------------\")\n",
    "\n",
    "\n",
    "\n",
    "    "
   ]
  },
  {
   "cell_type": "code",
   "execution_count": null,
   "id": "c7be1141-d3ff-49bf-9b84-3c883f4b0c46",
   "metadata": {},
   "outputs": [],
   "source": [
    "sales = \"1\" +\",\" +ui_name+\",\"+ui_mail+\",\"+ui_ph+\",\"+ui_pr+\",\"+record[ui_pr][\"Name\"]+\",\"+ str(record[ui_pr][\"Qn\"])+\",\"+ str(record[ui_pr][\"price\"])+\",\"+ str(ui_qn*record[ui_pr][\"price\"])+\",\"+time.ctime()\n",
    "\n"
   ]
  },
  {
   "cell_type": "code",
   "execution_count": null,
   "id": "b7ce6488-7684-4cef-b06e-7d73b9073265",
   "metadata": {},
   "outputs": [],
   "source": [
    "import time"
   ]
  },
  {
   "cell_type": "code",
   "execution_count": null,
   "id": "1e006300-ee56-4973-9ff7-a73b544988ee",
   "metadata": {},
   "outputs": [],
   "source": [
    "time.ctime()"
   ]
  },
  {
   "cell_type": "code",
   "execution_count": null,
   "id": "e1a367ca-aa9c-4c78-ba48-8256dc51d2c6",
   "metadata": {},
   "outputs": [],
   "source": [
    "import time\n",
    "import json\n",
    "\n",
    "fd = open(\"Records.json\",\"r\")\n",
    "js = fd.read()\n",
    "fd.close()\n",
    "\n",
    "record = json.loads(js)\n",
    "\n",
    "print(\"----------------------MENU-------------------------\")\n",
    "for key in record.keys():\n",
    "    print(key,\":\", record[key][\"Name\"],\"\\t|\",record[key][\"price\"],\"\\t|\",record[key][\"Qn\"])\n",
    "print(\"---------------------------------------------------\")\n",
    "\n",
    "ui_name = str(input(\"Enter your name  : \"))\n",
    "ui_mail = str(input(\"Enter mail id    : \"))\n",
    "ui_ph   = str(input(\"Enter phonr no   : \"))\n",
    "ui_pr   = str(input(\"Enetr product id  : \"))\n",
    "ui_qn   = int(input(\"Enter quantity    : \"))\n",
    "\n",
    "\n",
    "\n",
    "if record[ui_pr][\"Qn\"]>=(ui_qn):\n",
    "    record[ui_pr][\"Qn\"] = record[ui_pr][\"Qn\"] - ui_qn\n",
    "\n",
    "    print(\"----------------------------------------\")\n",
    "    print(\"                  Bill                   \\n\")\n",
    "\n",
    "    print(\"Name          :\", record[ui_pr][\"Name\"])\n",
    "    print(\"Price(Rs)     :\", record[ui_pr][\"price\"])\n",
    "    print(\"Quantity      :\", ui_qn)\n",
    "\n",
    "    print(\"---------------------------------------------------\")\n",
    "    print(\"Billing Amount: \", record[ui_pr][\"price\"]*ui_qn,\"Rs\")\n",
    "    print(\"---------------------------------------------------\")\n",
    "  \n",
    "    sale = \"1\" +\",\" +ui_name+\",\"+ui_mail+\",\"+ui_ph+\",\"+ui_pr+\",\"+record[ui_pr][\"Name\"]+\",\"+ str(ui_qn)+\",\"+ str(record[ui_pr][\"price\"])+\",\"+ str(ui_qn*record[ui_pr][\"price\"])+\",\"+time.ctime()\n",
    "\n",
    "\n",
    "\n",
    "else:\n",
    "    print(\"Sorry , We are not having enough quantity\")\n",
    "    print(\"We have only\", record[ui_pr][\"Qn\"],\"Quantity\")\n",
    "    print(\"--------------------------------------------\")\n",
    "\n",
    "    ch = str(input(\"press Y/y to purchase: \"))\n",
    "\n",
    "    if (ch==\"Y\" or ch==\"y\"):\n",
    "        print(\"----------------------------------------\")\n",
    "        print(\"                  Bill                   \\n\")\n",
    " \n",
    "        print(\"Name          :\", record[ui_pr][\"Name\"])\n",
    "        print(\"Price(Rs)     :\", record[ui_pr][\"price\"])\n",
    "        print(\"Quantity      :\", record[ui_pr][\"Qn\"])\n",
    "\n",
    "        print(\"---------------------------------------------------\")\n",
    "        print(\"Billing Amount: \", record[ui_pr][\"price\"]*record[ui_pr][\"Qn\"],\"Rs\")\n",
    "        print(\"---------------------------------------------------\")\n",
    "        \n",
    "        record[ui_pr][\"Qn\"] = 0\n",
    "\n",
    "        sale = \"1\" +\",\" +ui_name+\",\"+ui_mail+\",\"+ui_ph+\",\"+ui_pr+\",\"+record[ui_pr][\"Name\"]+\",\"+ str(record[ui_pr][\"Qn\"])+\",\"+ str(record[ui_pr][\"price\"])+\",\"+ str(record[ui_pr][\"Qn\"]*record[ui_pr][\"price\"])+\",\"+time.ctime()\n",
    "\n",
    "\n",
    "    \n",
    "    else:\n",
    "        print(\"Thanks\")\n",
    "\n",
    "js = json.dumps(record)\n",
    "\n",
    "fd = open(\"Records.json\", \"w\")\n",
    "fd.write(js)\n",
    "fd.close()\n",
    "\n",
    "print(\" \")\n",
    "print(\"-------------------------------------\")\n",
    "print(\"Thank you for Visiting, Inventory Updated\")\n",
    "print(\"-------------------------------------\")\n",
    "\n",
    "\n",
    "\n",
    "    "
   ]
  },
  {
   "cell_type": "code",
   "execution_count": null,
   "id": "9d9e9e22-a9b0-46be-9d09-8d28dc79a6c6",
   "metadata": {},
   "outputs": [],
   "source": [
    "sale"
   ]
  },
  {
   "cell_type": "code",
   "execution_count": 60,
   "id": "718d4ed9-25ca-4208-9c46-be77728f830a",
   "metadata": {},
   "outputs": [
    {
     "name": "stdout",
     "output_type": "stream",
     "text": [
      "----------------------MENU-------------------------\n",
      "1001 : 5 Star \t| 10 \t| 75\n",
      "1002 : Bar-One \t| 10 \t| 75\n",
      "1003 : Candy \t| 2 \t| 1000\n",
      "1004 : Chocolate-Cake \t| 550 \t| 5\n",
      "1005 : Blackberry-Cake \t| 650 \t| 5\n",
      "---------------------------------------------------\n"
     ]
    },
    {
     "name": "stdin",
     "output_type": "stream",
     "text": [
      "Enter your name  :  myname\n",
      "Enter mail id    :  mymail\n",
      "Enter phonr no   :  9887465\n",
      "Enetr product id  :  1001\n",
      "Enter quantity    :  10\n"
     ]
    },
    {
     "name": "stdout",
     "output_type": "stream",
     "text": [
      "----------------------------------------\n",
      "                  Bill                   \n",
      "\n",
      "Name          : 5 Star\n",
      "Price(Rs)     : 10\n",
      "Quantity      : 10\n",
      "---------------------------------------------------\n",
      "Billing Amount:  100 Rs\n",
      "---------------------------------------------------\n",
      " \n",
      "-------------------------------------\n",
      "Thank you for Visiting, Inventory Updated\n",
      "-------------------------------------\n"
     ]
    }
   ],
   "source": [
    "import time\n",
    "import json\n",
    "\n",
    "fd = open(\"Records.json\",\"r\")\n",
    "js = fd.read()\n",
    "fd.close()\n",
    "\n",
    "record = json.loads(js)\n",
    "\n",
    "print(\"----------------------MENU-------------------------\")\n",
    "for key in record.keys():\n",
    "    print(key,\":\", record[key][\"Name\"],\"\\t|\",record[key][\"price\"],\"\\t|\",record[key][\"Qn\"])\n",
    "print(\"---------------------------------------------------\")\n",
    "\n",
    "ui_name = str(input(\"Enter your name  : \"))\n",
    "ui_mail = str(input(\"Enter mail id    : \"))\n",
    "ui_ph   = str(input(\"Enter phonr no   : \"))\n",
    "ui_pr   = str(input(\"Enetr product id  : \"))\n",
    "ui_qn   = int(input(\"Enter quantity    : \"))\n",
    "\n",
    "\n",
    "\n",
    "if record[ui_pr][\"Qn\"]>=(ui_qn):\n",
    "    record[ui_pr][\"Qn\"] = record[ui_pr][\"Qn\"] - ui_qn\n",
    "\n",
    "    print(\"----------------------------------------\")\n",
    "    print(\"                  Bill                   \\n\")\n",
    "\n",
    "    print(\"Name          :\", record[ui_pr][\"Name\"])\n",
    "    print(\"Price(Rs)     :\", record[ui_pr][\"price\"])\n",
    "    print(\"Quantity      :\", ui_qn)\n",
    "\n",
    "    print(\"---------------------------------------------------\")\n",
    "    print(\"Billing Amount: \", record[ui_pr][\"price\"]*ui_qn,\"Rs\")\n",
    "    print(\"---------------------------------------------------\")\n",
    "  \n",
    "    sale =ui_name+\",\"+ui_mail+\",\"+ui_ph+\",\"+ui_pr+\",\"+record[ui_pr][\"Name\"]+\",\"+ str(ui_qn)+\",\"+ str(record[ui_pr][\"price\"])+\",\"+ str(ui_qn*record[ui_pr][\"price\"])+\",\"+time.ctime()+\"\\n\"\n",
    "\n",
    "\n",
    "\n",
    "else:\n",
    "    print(\"Sorry , We are not having enough quantity\")\n",
    "    print(\"We have only\", record[ui_pr][\"Qn\"],\"Quantity\")\n",
    "    print(\"--------------------------------------------\")\n",
    "\n",
    "    ch = str(input(\"press Y/y to purchase: \"))\n",
    "\n",
    "    if (ch==\"Y\" or ch==\"y\"):\n",
    "        print(\"----------------------------------------\")\n",
    "        print(\"                  Bill                   \\n\")\n",
    " \n",
    "        print(\"Name          :\", record[ui_pr][\"Name\"])\n",
    "        print(\"Price(Rs)     :\", record[ui_pr][\"price\"])\n",
    "        print(\"Quantity      :\", record[ui_pr][\"Qn\"])\n",
    "\n",
    "        print(\"---------------------------------------------------\")\n",
    "        print(\"Billing Amount: \", record[ui_pr][\"price\"]*record[ui_pr][\"Qn\"],\"Rs\")\n",
    "        print(\"---------------------------------------------------\")\n",
    "        \n",
    "        record[ui_pr][\"Qn\"] = 0\n",
    "\n",
    "        sale = ui_name+\",\"+ui_mail+\",\"+ui_ph+\",\"+ui_pr+\",\"+record[ui_pr][\"Name\"]+\",\"+ str(record[ui_pr][\"Qn\"])+\",\"+ str(record[ui_pr][\"price\"])+\",\"+ str(record[ui_pr][\"Qn\"]*record[ui_pr][\"price\"])+\",\"+time.ctime()+\"\\n\"\n",
    "\n",
    "\n",
    "    \n",
    "    else:\n",
    "        print(\"Thanks\")\n",
    "\n",
    "js = json.dumps(record)\n",
    "\n",
    "fd = open(\"Records.json\", \"w\")\n",
    "fd.write(js)\n",
    "fd.close()\n",
    "\n",
    "print(\" \")\n",
    "print(\"-------------------------------------\")\n",
    "print(\"Thank you for Visiting, Inventory Updated\")\n",
    "print(\"-------------------------------------\")\n",
    "\n",
    "\n",
    "\n",
    "    "
   ]
  },
  {
   "cell_type": "code",
   "execution_count": 52,
   "id": "9c61c10e-b70c-4c0c-967f-f0a1603f25f0",
   "metadata": {},
   "outputs": [
    {
     "data": {
      "text/plain": [
       "'sdf,sdf@34,9756654,1002,Bar-One,5,10,50,Sun Jun 23 10:27:35 2024'"
      ]
     },
     "execution_count": 52,
     "metadata": {},
     "output_type": "execute_result"
    }
   ],
   "source": [
    "sales"
   ]
  },
  {
   "cell_type": "code",
   "execution_count": 66,
   "id": "2ac891fb-473c-4f25-b950-554a7a06649b",
   "metadata": {},
   "outputs": [],
   "source": [
    "fd = open(\"sales.txt\",\"a\")\n",
    "fd.write(sale)\n",
    "fd.close()\n",
    "\n"
   ]
  },
  {
   "cell_type": "code",
   "execution_count": 74,
   "id": "24d00888-4e1d-4353-addc-cbb7a70af37e",
   "metadata": {},
   "outputs": [
    {
     "name": "stdout",
     "output_type": "stream",
     "text": [
      "----------------------MENU-------------------------\n",
      "1001 : 5 Star \t| 10 \t| 65\n",
      "1002 : Bar-One \t| 10 \t| 65\n",
      "1003 : Candy \t| 2 \t| 1000\n",
      "1004 : Chocolate-Cake \t| 550 \t| 5\n",
      "1005 : Blackberry-Cake \t| 650 \t| 5\n",
      "---------------------------------------------------\n"
     ]
    },
    {
     "name": "stdin",
     "output_type": "stream",
     "text": [
      "Enter your name  :  sandy\n",
      "Enter mail id    :  mymail\n",
      "Enter phonr no   :  96866\n",
      "Enetr product id  :  1005\n",
      "Enter quantity    :  1\n"
     ]
    },
    {
     "name": "stdout",
     "output_type": "stream",
     "text": [
      "----------------------------------------\n",
      "                  Bill                   \n",
      "\n",
      "Name          : Blackberry-Cake\n",
      "Price(Rs)     : 650\n",
      "Quantity      : 1\n",
      "---------------------------------------------------\n",
      "Billing Amount:  650 Rs\n",
      "---------------------------------------------------\n",
      " \n",
      "-------------------------------------\n",
      "Thank you for Visiting, Inventory Updated\n",
      "-------------------------------------\n"
     ]
    }
   ],
   "source": [
    "import time\n",
    "import json\n",
    "\n",
    "sale = \"\"\n",
    "\n",
    "fd = open(\"Records.json\",\"r\")\n",
    "js = fd.read()\n",
    "fd.close()\n",
    "\n",
    "record = json.loads(js)\n",
    "\n",
    "print(\"----------------------MENU-------------------------\")\n",
    "for key in record.keys():\n",
    "    print(key,\":\", record[key][\"Name\"],\"\\t|\",record[key][\"price\"],\"\\t|\",record[key][\"Qn\"])\n",
    "print(\"---------------------------------------------------\")\n",
    "\n",
    "ui_name = str(input(\"Enter your name  : \"))\n",
    "ui_mail = str(input(\"Enter mail id    : \"))\n",
    "ui_ph   = str(input(\"Enter phonr no   : \"))\n",
    "ui_pr   = str(input(\"Enetr product id  : \"))\n",
    "ui_qn   = int(input(\"Enter quantity    : \"))\n",
    "\n",
    "\n",
    "\n",
    "if record[ui_pr][\"Qn\"]>=(ui_qn):\n",
    "    record[ui_pr][\"Qn\"] = record[ui_pr][\"Qn\"] - ui_qn\n",
    "\n",
    "    print(\"----------------------------------------\")\n",
    "    print(\"                  Bill                   \\n\")\n",
    "\n",
    "    print(\"Name          :\", record[ui_pr][\"Name\"])\n",
    "    print(\"Price(Rs)     :\", record[ui_pr][\"price\"])\n",
    "    print(\"Quantity      :\", ui_qn)\n",
    "\n",
    "    print(\"---------------------------------------------------\")\n",
    "    print(\"Billing Amount: \", record[ui_pr][\"price\"]*ui_qn,\"Rs\")\n",
    "    print(\"---------------------------------------------------\")\n",
    "  \n",
    "    sale =ui_name+\",\"+ui_mail+\",\"+ui_ph+\",\"+ui_pr+\",\"+record[ui_pr][\"Name\"]+\",\"+ str(ui_qn)+\",\"+ str(record[ui_pr][\"price\"])+\",\"+ str(ui_qn*record[ui_pr][\"price\"])+\",\"+time.ctime()+\"\\n\"\n",
    "\n",
    "\n",
    "\n",
    "else:\n",
    "    print(\"Sorry , We are not having enough quantity\")\n",
    "    print(\"We have only\", record[ui_pr][\"Qn\"],\"Quantity\")\n",
    "    print(\"--------------------------------------------\")\n",
    "\n",
    "    ch = str(input(\"press Y/y to purchase: \"))\n",
    "\n",
    "    if (ch==\"Y\" or ch==\"y\"):\n",
    "        print(\"----------------------------------------\")\n",
    "        print(\"                  Bill                   \\n\")\n",
    " \n",
    "        print(\"Name          :\", record[ui_pr][\"Name\"])\n",
    "        print(\"Price(Rs)     :\", record[ui_pr][\"price\"])\n",
    "        print(\"Quantity      :\", record[ui_pr][\"Qn\"])\n",
    "\n",
    "        print(\"---------------------------------------------------\")\n",
    "        print(\"Billing Amount: \", record[ui_pr][\"price\"]*record[ui_pr][\"Qn\"],\"Rs\")\n",
    "        print(\"---------------------------------------------------\")\n",
    "        \n",
    "        record[ui_pr][\"Qn\"] = 0\n",
    "\n",
    "        sale = ui_name+\",\"+ui_mail+\",\"+ui_ph+\",\"+ui_pr+\",\"+record[ui_pr][\"Name\"]+\",\"+ str(record[ui_pr][\"Qn\"])+\",\"+ str(record[ui_pr][\"price\"])+\",\"+ str(record[ui_pr][\"Qn\"]*record[ui_pr][\"price\"])+\",\"+time.ctime()+\"\\n\"\n",
    "\n",
    "\n",
    "    \n",
    "    else:\n",
    "        print(\"Thanks\")\n",
    "\n",
    "js = json.dumps(record)\n",
    "\n",
    "fd = open(\"Records.json\", \"w\")\n",
    "fd.write(js)\n",
    "fd.close()\n",
    "\n",
    "fd = open(\"sales.txt\",\"a\")\n",
    "fd.write(sale)\n",
    "fd.close()\n",
    "\n",
    "print(\" \")\n",
    "print(\"-------------------------------------\")\n",
    "print(\"Thank you for Visiting, Inventory Updated\")\n",
    "print(\"-------------------------------------\")\n",
    "\n",
    "\n",
    "\n",
    "    "
   ]
  },
  {
   "cell_type": "code",
   "execution_count": 70,
   "id": "cf55b6bf-4a23-4203-ab79-644a93edf0b9",
   "metadata": {},
   "outputs": [
    {
     "data": {
      "text/plain": [
       "'sdf,sdf@34,9756654,1002,Bar-One,5,10,50,Sun Jun 23 10:27:35 2024'"
      ]
     },
     "execution_count": 70,
     "metadata": {},
     "output_type": "execute_result"
    }
   ],
   "source": [
    "sales"
   ]
  },
  {
   "cell_type": "code",
   "execution_count": 72,
   "id": "bae62884-ebbb-4fab-94f8-fb7729928a66",
   "metadata": {},
   "outputs": [
    {
     "data": {
      "text/plain": [
       "'Yuvraj,dfsf@w47,9899434,1002,Bar-One,10,10,100,Sun Jun 23 10:41:14 2024\\n'"
      ]
     },
     "execution_count": 72,
     "metadata": {},
     "output_type": "execute_result"
    }
   ],
   "source": [
    "sale"
   ]
  },
  {
   "cell_type": "code",
   "execution_count": 76,
   "id": "134c188c-d308-4764-823e-5d106a79e6af",
   "metadata": {},
   "outputs": [
    {
     "name": "stdout",
     "output_type": "stream",
     "text": [
      "----------------------MENU-------------------------\n",
      "1001 : 5 Star \t| 10 \t| 65\n",
      "1002 : Bar-One \t| 10 \t| 65\n",
      "1003 : Candy \t| 2 \t| 1000\n",
      "1004 : Chocolate-Cake \t| 550 \t| 5\n",
      "1005 : Blackberry-Cake \t| 650 \t| 4\n",
      "---------------------------------------------------\n"
     ]
    },
    {
     "name": "stdin",
     "output_type": "stream",
     "text": [
      "Enter your name  :  Yuvi\n",
      "Enter mail id    :  sjdkjsh@8764\n",
      "Enter phonr no   :  38479r6t9\n",
      "Enetr product id  :  1004\n",
      "Enter quantity    :  5\n"
     ]
    },
    {
     "name": "stdout",
     "output_type": "stream",
     "text": [
      "----------------------------------------\n",
      "                  Bill                   \n",
      "\n",
      "Name          : Chocolate-Cake\n",
      "Price(Rs)     : 550\n",
      "Quantity      : 5\n",
      "---------------------------------------------------\n",
      "Billing Amount:  2750 Rs\n",
      "---------------------------------------------------\n",
      " \n",
      "-------------------------------------\n",
      "Thank you for Visiting, Inventory Updated\n",
      "-------------------------------------\n"
     ]
    }
   ],
   "source": [
    "#importing libraries\n",
    "\n",
    "import time\n",
    "import json\n",
    "\n",
    "#initialising variables\n",
    "sale = \"\"\n",
    "\n",
    "#loading the inventory record from json to string\n",
    "fd = open(\"Records.json\",\"r\")\n",
    "js = fd.read()\n",
    "fd.close()\n",
    "\n",
    "#converting string to json/dictionaries\n",
    "record = json.loads(js)\n",
    "\n",
    "#Displaying menu\n",
    "print(\"----------------------MENU-------------------------\")\n",
    "for key in record.keys():\n",
    "    print(key,\":\", record[key][\"Name\"],\"\\t|\",record[key][\"price\"],\"\\t|\",record[key][\"Qn\"])\n",
    "print(\"---------------------------------------------------\")\n",
    "\n",
    "#taking user input about purchase and user details\n",
    "ui_name = str(input(\"Enter your name  : \"))\n",
    "ui_mail = str(input(\"Enter mail id    : \"))\n",
    "ui_ph   = str(input(\"Enter phonr no   : \"))\n",
    "ui_pr   = str(input(\"Enetr product id  : \"))\n",
    "ui_qn   = int(input(\"Enter quantity    : \"))\n",
    "\n",
    "\n",
    "#if we are having equal or more quantity than the user wants\n",
    "if record[ui_pr][\"Qn\"]>=(ui_qn):\n",
    "    \n",
    "\n",
    "    print(\"----------------------------------------\")\n",
    "    print(\"                  Bill                   \\n\")\n",
    "\n",
    "    print(\"Name          :\", record[ui_pr][\"Name\"])\n",
    "    print(\"Price(Rs)     :\", record[ui_pr][\"price\"])\n",
    "    print(\"Quantity      :\", ui_qn)\n",
    "\n",
    "    print(\"---------------------------------------------------\")\n",
    "    print(\"Billing Amount: \", record[ui_pr][\"price\"]*ui_qn,\"Rs\")\n",
    "    print(\"---------------------------------------------------\")\n",
    "  \n",
    "    #updating records dictionary\n",
    "    record[ui_pr][\"Qn\"] = record[ui_pr][\"Qn\"] - ui_qn\n",
    "    \n",
    "    #generating sales structure\n",
    "    sale =ui_name+\",\"+ui_mail+\",\"+ui_ph+\",\"+ui_pr+\",\"+record[ui_pr][\"Name\"]+\",\"+ str(ui_qn)+\",\"+ str(record[ui_pr][\"price\"])+\",\"+ str(ui_qn*record[ui_pr][\"price\"])+\",\"+time.ctime()+\"\\n\"\n",
    "\n",
    "\n",
    "# if we are not having enough quantity\n",
    "else:\n",
    "    #displaying info about quantity\n",
    "    print(\"Sorry , We are not having enough quantity\")\n",
    "    print(\"We have only\", record[ui_pr][\"Qn\"],\"Quantity\")\n",
    "    print(\"--------------------------------------------\")\n",
    "\n",
    "    ch = str(input(\"press Y/y to purchase: \"))\n",
    "\n",
    "    if (ch==\"Y\" or ch==\"y\"):\n",
    "        #displaying purchase details\n",
    "        print(\"----------------------------------------\")\n",
    "        print(\"                  Bill                   \\n\")\n",
    "        print(\"Name          :\", record[ui_pr][\"Name\"])\n",
    "        print(\"Price(Rs)     :\", record[ui_pr][\"price\"])\n",
    "        print(\"Quantity      :\", record[ui_pr][\"Qn\"])\n",
    "\n",
    "        print(\"---------------------------------------------------\")\n",
    "        print(\"Billing Amount: \", record[ui_pr][\"price\"]*record[ui_pr][\"Qn\"],\"Rs\")\n",
    "        print(\"---------------------------------------------------\")\n",
    "\n",
    "        #updating records dictionary\n",
    "        record[ui_pr][\"Qn\"] = 0\n",
    "\n",
    "        #generating sales structure\n",
    "        sale = ui_name+\",\"+ui_mail+\",\"+ui_ph+\",\"+ui_pr+\",\"+record[ui_pr][\"Name\"]+\",\"+ str(record[ui_pr][\"Qn\"])+\",\"+ str(record[ui_pr][\"price\"])+\",\"+ str(record[ui_pr][\"Qn\"]*record[ui_pr][\"price\"])+\",\"+time.ctime()+\"\\n\"\n",
    "\n",
    "\n",
    "    \n",
    "    else:\n",
    "        print(\"Thanks\")\n",
    "\n",
    "#converting dictionary to string\n",
    "js = json.dumps(record)\n",
    "\n",
    "#saving records in json files\n",
    "fd = open(\"Records.json\", \"w\")\n",
    "fd.write(js)\n",
    "fd.close()\n",
    "\n",
    "#saving records in sales file\n",
    "fd = open(\"sales.txt\",\"a\")\n",
    "fd.write(sale)\n",
    "fd.close()\n",
    "\n",
    "print(\" \")\n",
    "print(\"-------------------------------------\")\n",
    "print(\"Thank you for Visiting, Inventory Updated\")\n",
    "print(\"-------------------------------------\")\n",
    "\n",
    "\n",
    "\n",
    "    "
   ]
  },
  {
   "cell_type": "code",
   "execution_count": 78,
   "id": "82e3b16d-cee8-470f-b22f-d6a8a1c09a58",
   "metadata": {},
   "outputs": [
    {
     "data": {
      "text/plain": [
       "{'1001': {'Name': '5 Star', 'price': 10, 'Qn': 65},\n",
       " '1002': {'Name': 'Bar-One', 'price': 10, 'Qn': 65},\n",
       " '1003': {'Name': 'Candy', 'price': 2, 'Qn': 1000},\n",
       " '1004': {'Name': 'Chocolate-Cake', 'price': 550, 'Qn': 0},\n",
       " '1005': {'Name': 'Blackberry-Cake', 'price': 650, 'Qn': 4}}"
      ]
     },
     "execution_count": 78,
     "metadata": {},
     "output_type": "execute_result"
    }
   ],
   "source": [
    "json.loads(js)"
   ]
  },
  {
   "cell_type": "code",
   "execution_count": null,
   "id": "950f61b9-0a81-4956-960a-50702577b01f",
   "metadata": {},
   "outputs": [],
   "source": []
  }
 ],
 "metadata": {
  "kernelspec": {
   "display_name": "Python 3 (ipykernel)",
   "language": "python",
   "name": "python3"
  },
  "language_info": {
   "codemirror_mode": {
    "name": "ipython",
    "version": 3
   },
   "file_extension": ".py",
   "mimetype": "text/x-python",
   "name": "python",
   "nbconvert_exporter": "python",
   "pygments_lexer": "ipython3",
   "version": "3.11.7"
  }
 },
 "nbformat": 4,
 "nbformat_minor": 5
}
